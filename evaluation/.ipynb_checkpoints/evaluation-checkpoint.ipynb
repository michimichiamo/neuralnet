{
 "cells": [
  {
   "cell_type": "code",
   "execution_count": 1,
   "metadata": {},
   "outputs": [],
   "source": [
    "import numpy as np\n",
    "from matplotlib import pyplot as plt\n",
    "\n",
    "%matplotlib widget"
   ]
  },
  {
   "cell_type": "markdown",
   "metadata": {},
   "source": [
    "# OpenMP"
   ]
  },
  {
   "cell_type": "markdown",
   "metadata": {},
   "source": [
    "## Speedup and strong scaling"
   ]
  },
  {
   "cell_type": "code",
   "execution_count": 2,
   "metadata": {},
   "outputs": [],
   "source": [
    "omp_times = np.empty(8)\n",
    "omp_times[0] = np.mean(np.array([4.7633, 4.7686, 4.7663, 4.7658, 4.7627]))\n",
    "omp_times[1] = np.mean(np.array([2.4539, 2.4518, 2.4534, 2.4553, 2.4511]))\n",
    "omp_times[2] = np.mean(np.array([1.6868, 1.6849, 1.6872, 2.4936, 1.6866]))\n",
    "omp_times[3] = np.mean(np.array([1.9225, 1.3056, 1.3043, 1.3116, 1.3054]))\n",
    "omp_times[4] = np.mean(np.array([1.5925, 1.5731, 1.5747, 1.5990, 1.5953]))\n",
    "omp_times[5] = np.mean(np.array([1.3604, 1.3208, 1.3412, 1.3374, 1.3336]))\n",
    "omp_times[6] = np.mean(np.array([1.2134, 1.1536, 1.1494, 1.1629, 1.1767]))\n",
    "omp_times[7] = np.mean(np.array([1.0410, 1.0313, 1.0396, 1.0178, 1.0133]))"
   ]
  },
  {
   "cell_type": "code",
   "execution_count": 3,
   "metadata": {},
   "outputs": [],
   "source": [
    "omp_speedup = np.array([omp_times[0]/omp_times[i] for i in range(8)])\n",
    "omp_lin_speedup = np.arange(1,9)\n",
    "omp_strong_scaling = omp_speedup/omp_lin_speedup"
   ]
  },
  {
   "cell_type": "code",
   "execution_count": 4,
   "metadata": {},
   "outputs": [
    {
     "data": {
      "application/vnd.jupyter.widget-view+json": {
       "model_id": "e1e02b6687794a2085cdf0f71b4b5ea9",
       "version_major": 2,
       "version_minor": 0
      },
      "text/plain": [
       "Canvas(toolbar=Toolbar(toolitems=[('Home', 'Reset original view', 'home', 'home'), ('Back', 'Back to previous …"
      ]
     },
     "metadata": {},
     "output_type": "display_data"
    },
    {
     "data": {
      "text/plain": [
       "(0.0, 8.5, 0.0, 5.0)"
      ]
     },
     "execution_count": 4,
     "metadata": {},
     "output_type": "execute_result"
    }
   ],
   "source": [
    "%matplotlib widget\n",
    "\n",
    "plt.scatter(range(1,9), omp_speedup)\n",
    "plt.title(\"Program 1 - Speedup\")\n",
    "plt.xlabel(\"Number of processors\")\n",
    "plt.ylabel(\"Speedup\")\n",
    "plt.axis([0,8.5,0,5])"
   ]
  },
  {
   "cell_type": "code",
   "execution_count": 5,
   "metadata": {},
   "outputs": [
    {
     "data": {
      "application/vnd.jupyter.widget-view+json": {
       "model_id": "7252dcc3b0e34d4c9aeb330478a31b60",
       "version_major": 2,
       "version_minor": 0
      },
      "text/plain": [
       "Canvas(toolbar=Toolbar(toolitems=[('Home', 'Reset original view', 'home', 'home'), ('Back', 'Back to previous …"
      ]
     },
     "metadata": {},
     "output_type": "display_data"
    },
    {
     "data": {
      "text/plain": [
       "(0.0, 8.5, 0.0, 1.2)"
      ]
     },
     "execution_count": 5,
     "metadata": {},
     "output_type": "execute_result"
    }
   ],
   "source": [
    "%matplotlib widget\n",
    "\n",
    "plt.scatter(range(1,9), omp_strong_scaling)\n",
    "plt.title(\"Program 1 - Strong scaling efficiency\")\n",
    "plt.xlabel(\"Number of processors\")\n",
    "plt.ylabel(\"Strong scaling efficiency\")\n",
    "plt.axis([0,8.5,0,1.2])"
   ]
  },
  {
   "cell_type": "markdown",
   "metadata": {},
   "source": [
    "## Weak scaling"
   ]
  },
  {
   "cell_type": "code",
   "execution_count": 6,
   "metadata": {},
   "outputs": [],
   "source": [
    "#K=10\n",
    "omp_weak = np.mean(np.array([[[0.0452, 0.0450, 0.0456, 0.0453, 0.0344],\n",
    "                              [0.0383, 0.0387, 0.0374, 0.0372, 0.0276],\n",
    "                              [0.0333, 0.0335, 0.0296, 0.0297, 0.0330],\n",
    "                              [0.0305, 0.0333, 0.0305, 0.0479, 0.0466],\n",
    "                              [0.0487, 0.0492, 0.0507, 0.0473, 0.0469],\n",
    "                              [0.0476, 0.0462, 0.0562, 0.0510, 0.0479],\n",
    "                              [0.0570, 0.0595, 0.0517, 0.0549, 0.0517],\n",
    "                              [0.0484, 0.0597, 0.0580, 0.0692, 0.0488]],\n",
    "#50                                \n",
    "                             [[0.1319, 0.1363, 0.1364, 0.1351, 0.1370],\n",
    "                              [0.1362, 0.1363, 0.1361, 0.1364, 0.1362],\n",
    "                              [0.1421, 0.1418, 0.1430, 0.1423, 0.1413],\n",
    "                              [0.1477, 0.1482, 0.1467, 0.1479, 0.1785],\n",
    "                              [0.2243, 0.2262, 0.2259, 0.2271, 0.2250],\n",
    "                              [0.2248, 0.2278, 0.2298, 0.2276, 0.2260],\n",
    "                              [0.2304, 0.2357, 0.2304, 0.2350, 0.2324],\n",
    "                              [0.2276, 0.2248, 0.2659, 0.2610, 0.2322]],\n",
    "#100                                \n",
    "                             [[0.2635, 0.2637, 0.2635, 0.2636, 0.2635],\n",
    "                              [0.2743, 0.2723, 0.2741, 0.2739, 0.2716],\n",
    "                              [0.2822, 0.2843, 0.2821, 0.2823, 0.2828],\n",
    "                              [0.2910, 0.2908, 0.2940, 0.2934, 0.2959],\n",
    "                              [0.4524, 0.4488, 0.4416, 0.4461, 0.4431],\n",
    "                              [0.4481, 0.4498, 0.4464, 0.4486, 0.4496],\n",
    "                              [0.4617, 0.4476, 0.4610, 0.4849, 0.4523],\n",
    "                              [0.4742, 0.4551, 0.4677, 0.4530, 0.4920]],\n",
    "#150                                \n",
    "                             [[0.3946, 0.3945, 0.3948, 0.3939, 0.3949],\n",
    "                              [0.4080, 0.4078, 0.4080, 0.4074, 0.4081],\n",
    "                              [0.4227, 0.4251, 0.4252, 0.4252, 0.4293],\n",
    "                              [0.4399, 0.4347, 0.4368, 0.4387, 0.6449],\n",
    "                              [0.6681, 0.6613, 0.6517, 0.6666, 0.6712],\n",
    "                              [0.6729, 0.6742, 0.7029, 0.6689, 0.6713],\n",
    "                              [0.6806, 0.6734, 0.6806, 0.6809, 0.6883],\n",
    "                              [0.6943, 0.6819, 0.6900, 0.6844, 0.6928]]]),\n",
    "                      axis=-1)"
   ]
  },
  {
   "cell_type": "code",
   "execution_count": 7,
   "metadata": {},
   "outputs": [
    {
     "data": {
      "application/vnd.jupyter.widget-view+json": {
       "model_id": "149cd493822742a99b169f1adb2b9c01",
       "version_major": 2,
       "version_minor": 0
      },
      "text/plain": [
       "Canvas(toolbar=Toolbar(toolitems=[('Home', 'Reset original view', 'home', 'home'), ('Back', 'Back to previous …"
      ]
     },
     "metadata": {},
     "output_type": "display_data"
    },
    {
     "data": {
      "text/plain": [
       "(0.0, 8.5, 0.0, 1.5)"
      ]
     },
     "execution_count": 7,
     "metadata": {},
     "output_type": "execute_result"
    }
   ],
   "source": [
    "%matplotlib widget\n",
    "plt.scatter(range(1,9), omp_weak[0,0]/omp_weak[0,:], color='orange', label='K=10')\n",
    "plt.scatter(range(1,9), omp_weak[1,0]/omp_weak[1,:], color='red', label='K=50')\n",
    "plt.scatter(range(1,9), omp_weak[2,0]/omp_weak[2,:], color='blue', label='K=100')\n",
    "plt.scatter(range(1,9), omp_weak[3,0]/omp_weak[3,:], color='green', label='K=150')\n",
    "plt.legend()\n",
    "plt.title(\"Weak scaling efficiency\")\n",
    "plt.xlabel(\"Number of processors\")\n",
    "plt.ylabel(\"Weak scaling efficiency\")\n",
    "plt.axis([0,8.5,0,1.5])"
   ]
  },
  {
   "cell_type": "code",
   "execution_count": 8,
   "metadata": {},
   "outputs": [
    {
     "data": {
      "text/plain": [
       "2866.924285888672"
      ]
     },
     "execution_count": 8,
     "metadata": {},
     "output_type": "execute_result"
    }
   ],
   "source": [
    "N=500000\n",
    "R=5\n",
    "n0,w0,n1=0,0,0\n",
    "\n",
    "for k in range(150):\n",
    "    n0 += N-k*(R-1)\n",
    "    n1 += 2*N-k*(R-1)\n",
    "    w0 += (N-(k+1)*(R-1))*R\n",
    "w0, n0, n1, n1/n0\n",
    "(w0+2*N)*64/(1024*1024*8)"
   ]
  },
  {
   "cell_type": "code",
   "execution_count": 9,
   "metadata": {},
   "outputs": [
    {
     "data": {
      "text/plain": [
       "393216000.0"
      ]
     },
     "execution_count": 9,
     "metadata": {},
     "output_type": "execute_result"
    }
   ],
   "source": [
    "n_bit = 3000*1024*1024*8\n",
    "n_double = n_bit/64\n",
    "n_double"
   ]
  },
  {
   "cell_type": "markdown",
   "metadata": {},
   "source": [
    "# CUDA"
   ]
  },
  {
   "cell_type": "markdown",
   "metadata": {},
   "source": [
    "## Speedup with respect to CPU implementation"
   ]
  },
  {
   "cell_type": "code",
   "execution_count": 10,
   "metadata": {},
   "outputs": [],
   "source": [
    "cpu_times = np.mean(np.array([[0.0437, 0.0203, 0.0163, 0.0016, 0.0016],\n",
    "                              [0.0374, 0.0271, 0.0232, 0.0119, 0.0111],\n",
    "                              [0.0327, 0.0244, 0.0792, 0.0212, 0.0300],\n",
    "                              [0.0391, 0.0224, 0.0206, 0.0223, 0.0221],\n",
    "                              [0.0440, 0.0352, 0.0527, 0.0352, 0.0398],\n",
    "                              [0.0985, 0.0944, 0.0955, 0.1283, 0.0949],\n",
    "                              [0.1786, 0.1755, 0.1814, 0.1724, 0.1710],\n",
    "                              [0.3515, 0.3450, 0.3568, 0.3857, 0.3531],\n",
    "                              [0.8602, 0.8638, 0.8709, 0.8662, 0.8644]]),\n",
    "                    axis=-1)\n",
    "\n",
    "gpu_times = np.mean(np.array([[0.0033, 0.0035, 0.0032, 0.0034, 0.0036],\n",
    "                              [0.0040, 0.0039, 0.0040, 0.0042, 0.0042],\n",
    "                              [0.0038, 0.0038, 0.0038, 0.0039, 0.0038],\n",
    "                              [0.0037, 0.0037, 0.0038, 0.0037, 0.0037],\n",
    "                              [0.0062, 0.0062, 0.0062, 0.0062, 0.0062],\n",
    "                              [0.0106, 0.0106, 0.0106, 0.0106, 0.0106],\n",
    "                              [0.0188, 0.0188, 0.0188, 0.0188, 0.0188],\n",
    "                              [0.0342, 0.0342, 0.0342, 0.0342, 0.0342],\n",
    "                              [0.0789, 0.0789, 0.0788, 0.0788, 0.0788]]),\n",
    "                    axis=-1)"
   ]
  },
  {
   "cell_type": "code",
   "execution_count": 11,
   "metadata": {},
   "outputs": [
    {
     "data": {
      "text/plain": [
       "array([0.0167 , 0.02214, 0.0375 , 0.0253 , 0.04138, 0.10232, 0.17578,\n",
       "       0.35842, 0.8651 ])"
      ]
     },
     "execution_count": 11,
     "metadata": {},
     "output_type": "execute_result"
    }
   ],
   "source": [
    "cpu_times"
   ]
  },
  {
   "cell_type": "code",
   "execution_count": 12,
   "metadata": {},
   "outputs": [],
   "source": [
    "cuda_speedup = cpu_times/gpu_times\n",
    "N = 1000*np.array([i*j for i in [1,10,100] for j in [1,2,5]])\n",
    "xpos = np.array([0,5,7,8])\n",
    "xticks = N[xpos]\n",
    "xlabels = map(str,N[xpos])"
   ]
  },
  {
   "cell_type": "code",
   "execution_count": 13,
   "metadata": {},
   "outputs": [
    {
     "data": {
      "application/vnd.jupyter.widget-view+json": {
       "model_id": "1cc474501c694ee4a7cf36c6147a692c",
       "version_major": 2,
       "version_minor": 0
      },
      "text/plain": [
       "Canvas(toolbar=Toolbar(toolitems=[('Home', 'Reset original view', 'home', 'home'), ('Back', 'Back to previous …"
      ]
     },
     "metadata": {},
     "output_type": "display_data"
    },
    {
     "data": {
      "text/plain": [
       "Text(0, 0.5, 'Speedup')"
      ]
     },
     "execution_count": 13,
     "metadata": {},
     "output_type": "execute_result"
    }
   ],
   "source": [
    "%matplotlib widget\n",
    "\n",
    "plt.plot(N, cuda_speedup, marker='o')\n",
    "plt.xticks(ticks=xticks, labels=xlabels)\n",
    "plt.title(\"Program 2 - Speedup vs CPU\")\n",
    "plt.xlabel(\"Number of inputs\")\n",
    "plt.ylabel(\"Speedup\")"
   ]
  },
  {
   "cell_type": "markdown",
   "metadata": {},
   "source": [
    "## Throughput"
   ]
  },
  {
   "cell_type": "code",
   "execution_count": 14,
   "metadata": {},
   "outputs": [],
   "source": [
    "thr_times = np.mean(np.array([[0.0037, 0.0034, 0.0037, 0.0036, 0.0038],\n",
    "                              [0.0041, 0.0041, 0.0041, 0.0038, 0.0042],\n",
    "                              [0.0038, 0.0038, 0.0038, 0.0038, 0.0038],\n",
    "                              [0.0038, 0.0038, 0.0037, 0.0037, 0.0038],\n",
    "                              [0.0062, 0.0062, 0.0062, 0.0062, 0.0062],\n",
    "                              [0.0107, 0.0106, 0.0106, 0.0106, 0.0106],\n",
    "                              [0.0188, 0.0188, 0.0189, 0.0188, 0.0189],\n",
    "                              [0.0342, 0.0343, 0.0342, 0.0342, 0.0342],\n",
    "                              [0.0789, 0.0789, 0.0789, 0.0788, 0.0789]]),\n",
    "                       axis=-1)"
   ]
  },
  {
   "cell_type": "code",
   "execution_count": 15,
   "metadata": {},
   "outputs": [],
   "source": [
    "N = 1000*np.array([i*j for i in [1,10,100] for j in [1,2,5]])\n",
    "K = 150\n",
    "R = 5\n",
    "thr_processed = np.array([sum([n-k*(R-1) for k in range(K)]) for n in N])\n",
    "throughput = 1e-06 * thr_processed/thr_times\n",
    "xpos = np.array([0,1,3,6,8])\n",
    "xticks = N[xpos]\n",
    "xlabels = map(str,N[xpos])"
   ]
  },
  {
   "cell_type": "code",
   "execution_count": 16,
   "metadata": {},
   "outputs": [
    {
     "data": {
      "application/vnd.jupyter.widget-view+json": {
       "model_id": "3134e39212a8408b81bea2fb223fa5a1",
       "version_major": 2,
       "version_minor": 0
      },
      "text/plain": [
       "Canvas(toolbar=Toolbar(toolitems=[('Home', 'Reset original view', 'home', 'home'), ('Back', 'Back to previous …"
      ]
     },
     "metadata": {},
     "output_type": "display_data"
    },
    {
     "data": {
      "text/plain": [
       "Text(0, 0.5, 'Millions of elements processed per second')"
      ]
     },
     "execution_count": 16,
     "metadata": {},
     "output_type": "execute_result"
    }
   ],
   "source": [
    "%matplotlib widget\n",
    "\n",
    "plt.plot(N, throughput, marker='o')\n",
    "plt.xscale('log')\n",
    "plt.xticks(ticks=xticks, labels=xlabels)\n",
    "plt.title(\"Program 2 - Throughput\")\n",
    "plt.xlabel(\"Number of inputs\")\n",
    "plt.ylabel(\"Millions of elements processed per second\")"
   ]
  }
 ],
 "metadata": {
  "kernelspec": {
   "display_name": "Python [conda env:root] *",
   "language": "python",
   "name": "conda-root-py"
  },
  "language_info": {
   "codemirror_mode": {
    "name": "ipython",
    "version": 3
   },
   "file_extension": ".py",
   "mimetype": "text/x-python",
   "name": "python",
   "nbconvert_exporter": "python",
   "pygments_lexer": "ipython3",
   "version": "3.8.5"
  }
 },
 "nbformat": 4,
 "nbformat_minor": 4
}
